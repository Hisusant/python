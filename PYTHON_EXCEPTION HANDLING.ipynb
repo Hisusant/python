{
 "cells": [
  {
   "cell_type": "code",
   "execution_count": null,
   "id": "da6e511b",
   "metadata": {},
   "outputs": [],
   "source": [
    "'''\n",
    "try : \n",
    "    block of code where exception may occured\n",
    "    --------------------\n",
    "    \n",
    "except Exception as e: \n",
    "    # Exception is a base class \n",
    "    handle the exception by giving user friendly message\n",
    "\n",
    "else : \n",
    "    this block won't execute if any exception occured \n",
    "    we can print any output here \n",
    "    \n",
    "finally:\n",
    "    This block will execute any how either exception occured or not\n",
    "    ----------------------\n",
    "    we can close the database connection here \n",
    "raise userdefined_exception_name  : - we can raise any user defined exception by using raise keyword \n",
    "\n",
    "\n",
    "\n",
    "    '''"
   ]
  },
  {
   "cell_type": "code",
   "execution_count": 35,
   "id": "e51ac0f3",
   "metadata": {},
   "outputs": [
    {
     "ename": "NameError",
     "evalue": "name 'b' is not defined",
     "output_type": "error",
     "traceback": [
      "\u001b[1;31m---------------------------------------------------------------------------\u001b[0m",
      "\u001b[1;31mNameError\u001b[0m                                 Traceback (most recent call last)",
      "\u001b[1;32m~\\AppData\\Local\\Temp/ipykernel_184/905401003.py\u001b[0m in \u001b[0;36m<module>\u001b[1;34m\u001b[0m\n\u001b[1;32m----> 1\u001b[1;33m \u001b[0ma\u001b[0m\u001b[1;33m=\u001b[0m\u001b[0mb\u001b[0m\u001b[1;33m\u001b[0m\u001b[1;33m\u001b[0m\u001b[0m\n\u001b[0m",
      "\u001b[1;31mNameError\u001b[0m: name 'b' is not defined"
     ]
    }
   ],
   "source": [
    "a=b"
   ]
  },
  {
   "cell_type": "code",
   "execution_count": 36,
   "id": "9fe63a6f",
   "metadata": {},
   "outputs": [
    {
     "name": "stdout",
     "output_type": "stream",
     "text": [
      "Provide some value for b\n"
     ]
    }
   ],
   "source": [
    "# try and except\n",
    "try:\n",
    "    a=b\n",
    "except NameError:\n",
    "    print(\"Provide some value for b\")"
   ]
  },
  {
   "cell_type": "code",
   "execution_count": 38,
   "id": "e0aa2f24",
   "metadata": {},
   "outputs": [
    {
     "ename": "TypeError",
     "evalue": "unsupported operand type(s) for +: 'int' and 'str'",
     "output_type": "error",
     "traceback": [
      "\u001b[1;31m---------------------------------------------------------------------------\u001b[0m",
      "\u001b[1;31mTypeError\u001b[0m                                 Traceback (most recent call last)",
      "\u001b[1;32m~\\AppData\\Local\\Temp/ipykernel_184/121830755.py\u001b[0m in \u001b[0;36m<module>\u001b[1;34m\u001b[0m\n\u001b[0;32m      1\u001b[0m \u001b[0ma\u001b[0m\u001b[1;33m=\u001b[0m\u001b[1;36m10\u001b[0m\u001b[1;33m\u001b[0m\u001b[1;33m\u001b[0m\u001b[0m\n\u001b[0;32m      2\u001b[0m \u001b[0mb\u001b[0m\u001b[1;33m=\u001b[0m\u001b[1;36m3\u001b[0m\u001b[1;33m\u001b[0m\u001b[1;33m\u001b[0m\u001b[0m\n\u001b[1;32m----> 3\u001b[1;33m \u001b[0mc\u001b[0m \u001b[1;33m=\u001b[0m \u001b[0ma\u001b[0m\u001b[1;33m+\u001b[0m\u001b[1;34m'b'\u001b[0m\u001b[1;33m\u001b[0m\u001b[1;33m\u001b[0m\u001b[0m\n\u001b[0m",
      "\u001b[1;31mTypeError\u001b[0m: unsupported operand type(s) for +: 'int' and 'str'"
     ]
    }
   ],
   "source": [
    "a=10\n",
    "b=3\n",
    "c = a+'b'"
   ]
  },
  {
   "cell_type": "code",
   "execution_count": 39,
   "id": "efe4f6d4",
   "metadata": {},
   "outputs": [
    {
     "name": "stdout",
     "output_type": "stream",
     "text": [
      "data types should be similar\n"
     ]
    }
   ],
   "source": [
    "# tr yand except\n",
    "try:\n",
    "    a=10\n",
    "    b=7\n",
    "    c=a+'b'\n",
    "except TypeError:\n",
    "    print(\"data types should be similar\")"
   ]
  },
  {
   "cell_type": "code",
   "execution_count": 40,
   "id": "5135a975",
   "metadata": {},
   "outputs": [
    {
     "ename": "ZeroDivisionError",
     "evalue": "division by zero",
     "output_type": "error",
     "traceback": [
      "\u001b[1;31m---------------------------------------------------------------------------\u001b[0m",
      "\u001b[1;31mZeroDivisionError\u001b[0m                         Traceback (most recent call last)",
      "\u001b[1;32m~\\AppData\\Local\\Temp/ipykernel_184/2003767655.py\u001b[0m in \u001b[0;36m<module>\u001b[1;34m\u001b[0m\n\u001b[0;32m      1\u001b[0m \u001b[0ma\u001b[0m \u001b[1;33m=\u001b[0m\u001b[1;36m20\u001b[0m\u001b[1;33m\u001b[0m\u001b[1;33m\u001b[0m\u001b[0m\n\u001b[0;32m      2\u001b[0m \u001b[0mb\u001b[0m \u001b[1;33m=\u001b[0m\u001b[1;36m0\u001b[0m\u001b[1;33m\u001b[0m\u001b[1;33m\u001b[0m\u001b[0m\n\u001b[1;32m----> 3\u001b[1;33m \u001b[0ma\u001b[0m\u001b[1;33m/\u001b[0m\u001b[0mb\u001b[0m\u001b[1;33m\u001b[0m\u001b[1;33m\u001b[0m\u001b[0m\n\u001b[0m",
      "\u001b[1;31mZeroDivisionError\u001b[0m: division by zero"
     ]
    }
   ],
   "source": [
    "a =20\n",
    "b =0\n",
    "a/b"
   ]
  },
  {
   "cell_type": "code",
   "execution_count": 42,
   "id": "83d2699d",
   "metadata": {},
   "outputs": [
    {
     "name": "stdout",
     "output_type": "stream",
     "text": [
      "denominator should not be zero\n"
     ]
    }
   ],
   "source": [
    "# try and except\n",
    "try:\n",
    "    a=10\n",
    "    b=0\n",
    "    a/b\n",
    "except ZeroDivisionError:\n",
    "    print(\"denominator should not be zero\")"
   ]
  },
  {
   "cell_type": "code",
   "execution_count": 59,
   "id": "d8a6d537",
   "metadata": {},
   "outputs": [
    {
     "name": "stdout",
     "output_type": "stream",
     "text": [
      "Enter 1st number: 234234\n",
      "Enter 2nd number: 24fdgg\n",
      "invalid literal for int() with base 10: '24fdgg'\n"
     ]
    }
   ],
   "source": [
    "# try exception \n",
    "try:\n",
    "    a = int(input('Enter 1st number: '))\n",
    "    b = int(input(\"Enter 2nd number: \"))\n",
    "    add = a+b\n",
    "    sub = a-b\n",
    "    mul = a*b\n",
    "    div = a/b\n",
    "    print(add)\n",
    "    print(sub)\n",
    "    print(mul)\n",
    "    print(div)\n",
    "except NameError:\n",
    "    print(\"Enter some value\")\n",
    "except TypeError:\n",
    "    print(\"Enter some value\")\n",
    "except ZeroDivisionError:\n",
    "    print(\"denominator should be greater than zero\")\n",
    "except Exception as e:\n",
    "    print(e)\n"
   ]
  },
  {
   "cell_type": "code",
   "execution_count": 61,
   "id": "a27f60df",
   "metadata": {},
   "outputs": [
    {
     "name": "stdout",
     "output_type": "stream",
     "text": [
      "Enter 1st number: 234234\n",
      "Enter 2nd number: sdfsdf\n",
      "invalid literal for int() with base 10: 'sdfsdf'\n"
     ]
    }
   ],
   "source": [
    "# try ----except --- else\n",
    "try:\n",
    "    a = int(input('Enter 1st number: '))\n",
    "    b = int(input(\"Enter 2nd number: \"))\n",
    "    add = a+b\n",
    "    sub = a-b\n",
    "    mul = a*b\n",
    "    div = a/b\n",
    "    \n",
    "except NameError:\n",
    "    print(\"Enter some value\")\n",
    "except TypeError:\n",
    "    print(\"Enter some value\")\n",
    "except ZeroDivisionError:\n",
    "    print(\"denominator should be greater than zero\")\n",
    "except Exception as e:\n",
    "    print(e)\n",
    "else:\n",
    "    print(add)\n",
    "    print(sub)\n",
    "    print(mul)\n",
    "    print(div)\n"
   ]
  },
  {
   "cell_type": "code",
   "execution_count": 62,
   "id": "e3f6a413",
   "metadata": {},
   "outputs": [
    {
     "name": "stdout",
     "output_type": "stream",
     "text": [
      "Enter 1st number: ldjfld\n",
      "invalid literal for int() with base 10: 'ldjfld'\n",
      "This block execute either error occured or not\n"
     ]
    }
   ],
   "source": [
    "# try ----except --- else-----finally\n",
    "try:\n",
    "    a = int(input('Enter 1st number: '))\n",
    "    b = int(input(\"Enter 2nd number: \"))\n",
    "    add = a+b\n",
    "    sub = a-b\n",
    "    mul = a*b\n",
    "    div = a/b\n",
    "    \n",
    "except NameError:\n",
    "    print(\"Enter some value\")\n",
    "except TypeError:\n",
    "    print(\"Enter some value\")\n",
    "except ZeroDivisionError:\n",
    "    print(\"denominator should be greater than zero\")\n",
    "except Exception as e:\n",
    "    print(e)\n",
    "else:        # else block won't execute if any error occured\n",
    "    print(add)\n",
    "    print(sub)\n",
    "    print(mul)\n",
    "    print(div)\n",
    "finally:   # finally block execute all time either error occured or not \n",
    "    print(\"This block execute either error occured or not\")"
   ]
  },
  {
   "cell_type": "code",
   "execution_count": null,
   "id": "899cd94c",
   "metadata": {},
   "outputs": [],
   "source": [
    "# try ----except --- raise , raise - we use to raise an custom exception that we created "
   ]
  },
  {
   "cell_type": "code",
   "execution_count": 100,
   "id": "50b1efa0",
   "metadata": {},
   "outputs": [],
   "source": [
    "class error1(Exception):\n",
    "    pass\n",
    "class myexception(error1):\n",
    "    pass"
   ]
  },
  {
   "cell_type": "code",
   "execution_count": 103,
   "id": "aca1b766",
   "metadata": {},
   "outputs": [
    {
     "name": "stdout",
     "output_type": "stream",
     "text": [
      "Enter your age: 1999\n",
      "Your age is 23, you are welcome \n"
     ]
    }
   ],
   "source": [
    "# my requirement - accept age between 20 to 30 years , if > 30 years then raise exception if < 20 years the nreise exception\n",
    "# raise - To raise a custom defined exception \n",
    "try:\n",
    "    year = int(input(\"Enter your age: \"))\n",
    "    age = 2022-year\n",
    "    if age>=20 and age<30:\n",
    "        print(\"Your age is {}, you are welcome \".format(age))\n",
    "    else:\n",
    "        raise myexception\n",
    "except myexception:\n",
    "    print(\"Your age is {}, you are not eligible\".format(age))\n"
   ]
  },
  {
   "cell_type": "code",
   "execution_count": null,
   "id": "a937e0c4",
   "metadata": {},
   "outputs": [],
   "source": []
  },
  {
   "cell_type": "code",
   "execution_count": null,
   "id": "41209dfc",
   "metadata": {},
   "outputs": [],
   "source": []
  },
  {
   "cell_type": "code",
   "execution_count": null,
   "id": "9b84bb2d",
   "metadata": {},
   "outputs": [],
   "source": []
  }
 ],
 "metadata": {
  "kernelspec": {
   "display_name": "Python 3 (ipykernel)",
   "language": "python",
   "name": "python3"
  },
  "language_info": {
   "codemirror_mode": {
    "name": "ipython",
    "version": 3
   },
   "file_extension": ".py",
   "mimetype": "text/x-python",
   "name": "python",
   "nbconvert_exporter": "python",
   "pygments_lexer": "ipython3",
   "version": "3.9.7"
  }
 },
 "nbformat": 4,
 "nbformat_minor": 5
}
