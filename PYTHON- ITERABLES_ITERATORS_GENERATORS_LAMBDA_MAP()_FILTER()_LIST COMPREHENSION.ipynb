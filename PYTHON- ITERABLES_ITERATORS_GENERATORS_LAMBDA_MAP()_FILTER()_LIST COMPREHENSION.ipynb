{
 "cells": [
  {
   "cell_type": "code",
   "execution_count": 7,
   "id": "f398276e",
   "metadata": {},
   "outputs": [
    {
     "name": "stdout",
     "output_type": "stream",
     "text": [
      "1\n",
      "2\n",
      "3\n",
      "4\n",
      "5\n"
     ]
    }
   ],
   "source": [
    "lst = [1,2,3,4,5]\n",
    "for i in lst:\n",
    "    print(i)"
   ]
  },
  {
   "cell_type": "code",
   "execution_count": 17,
   "id": "1ed17e95",
   "metadata": {},
   "outputs": [],
   "source": [
    "# iterators \n",
    "lst2 = iter(lst) "
   ]
  },
  {
   "cell_type": "code",
   "execution_count": 19,
   "id": "3d934a5a",
   "metadata": {},
   "outputs": [
    {
     "data": {
      "text/plain": [
       "2"
      ]
     },
     "execution_count": 19,
     "metadata": {},
     "output_type": "execute_result"
    }
   ],
   "source": [
    "next(lst2)"
   ]
  },
  {
   "cell_type": "code",
   "execution_count": 20,
   "id": "c2339d4d",
   "metadata": {},
   "outputs": [
    {
     "name": "stdout",
     "output_type": "stream",
     "text": [
      "3\n",
      "4\n",
      "5\n"
     ]
    }
   ],
   "source": [
    "for i in lst2:\n",
    "    print(i)"
   ]
  },
  {
   "cell_type": "code",
   "execution_count": 21,
   "id": "e216a4a1",
   "metadata": {},
   "outputs": [
    {
     "ename": "StopIteration",
     "evalue": "",
     "output_type": "error",
     "traceback": [
      "\u001b[1;31m---------------------------------------------------------------------------\u001b[0m",
      "\u001b[1;31mStopIteration\u001b[0m                             Traceback (most recent call last)",
      "\u001b[1;32m~\\AppData\\Local\\Temp/ipykernel_5400/4086992947.py\u001b[0m in \u001b[0;36m<module>\u001b[1;34m\u001b[0m\n\u001b[1;32m----> 1\u001b[1;33m \u001b[0mnext\u001b[0m\u001b[1;33m(\u001b[0m\u001b[0mlst2\u001b[0m\u001b[1;33m)\u001b[0m\u001b[1;33m\u001b[0m\u001b[1;33m\u001b[0m\u001b[0m\n\u001b[0m",
      "\u001b[1;31mStopIteration\u001b[0m: "
     ]
    }
   ],
   "source": [
    "next(lst2)"
   ]
  },
  {
   "cell_type": "code",
   "execution_count": 25,
   "id": "7a65bf66",
   "metadata": {},
   "outputs": [],
   "source": [
    "\n",
    "def fun1(n):\n",
    "    for i in range(n):\n",
    "        return i   # only return the first iterable element \n"
   ]
  },
  {
   "cell_type": "code",
   "execution_count": 28,
   "id": "d42c6f4d",
   "metadata": {},
   "outputs": [
    {
     "data": {
      "text/plain": [
       "0"
      ]
     },
     "execution_count": 28,
     "metadata": {},
     "output_type": "execute_result"
    }
   ],
   "source": [
    "fun1(3)  "
   ]
  },
  {
   "cell_type": "code",
   "execution_count": 29,
   "id": "cc4e5a2d",
   "metadata": {},
   "outputs": [],
   "source": [
    "## generators \n",
    "def fun2(n):\n",
    "    for i in range(n):\n",
    "        yield i*i      # generator \n",
    "        "
   ]
  },
  {
   "cell_type": "code",
   "execution_count": 30,
   "id": "d89ff574",
   "metadata": {},
   "outputs": [
    {
     "data": {
      "text/plain": [
       "<generator object fun2 at 0x00000159ADEF8200>"
      ]
     },
     "execution_count": 30,
     "metadata": {},
     "output_type": "execute_result"
    }
   ],
   "source": [
    "fun2(3)"
   ]
  },
  {
   "cell_type": "code",
   "execution_count": 37,
   "id": "3b3ec06e",
   "metadata": {},
   "outputs": [
    {
     "name": "stdout",
     "output_type": "stream",
     "text": [
      "0\n",
      "1\n",
      "4\n",
      "9\n",
      "16\n"
     ]
    }
   ],
   "source": [
    "for i in fun2(5):\n",
    "    print(i)"
   ]
  },
  {
   "cell_type": "code",
   "execution_count": 31,
   "id": "259a6573",
   "metadata": {},
   "outputs": [],
   "source": [
    "a = fun2(3)"
   ]
  },
  {
   "cell_type": "code",
   "execution_count": 32,
   "id": "8f24a136",
   "metadata": {},
   "outputs": [
    {
     "name": "stdout",
     "output_type": "stream",
     "text": [
      "0\n",
      "1\n",
      "4\n"
     ]
    }
   ],
   "source": [
    "for i in a:\n",
    "    print(i)"
   ]
  },
  {
   "cell_type": "code",
   "execution_count": 35,
   "id": "d795c02e",
   "metadata": {},
   "outputs": [
    {
     "name": "stdout",
     "output_type": "stream",
     "text": [
      "0\n",
      "1\n",
      "4\n"
     ]
    }
   ],
   "source": [
    "for i in fun2(3):\n",
    "    print(i)"
   ]
  },
  {
   "cell_type": "code",
   "execution_count": 38,
   "id": "c5deb7e7",
   "metadata": {},
   "outputs": [],
   "source": [
    "import types, collections"
   ]
  },
  {
   "cell_type": "code",
   "execution_count": 44,
   "id": "203129c3",
   "metadata": {},
   "outputs": [
    {
     "data": {
      "text/plain": [
       "True"
      ]
     },
     "execution_count": 44,
     "metadata": {},
     "output_type": "execute_result"
    }
   ],
   "source": [
    "issubclass(types.GeneratorType, collections.Iterator)"
   ]
  },
  {
   "cell_type": "code",
   "execution_count": 63,
   "id": "27c221ef",
   "metadata": {},
   "outputs": [],
   "source": [
    "# map()  # find out even and odd numbers\n",
    "def even_odd(num):\n",
    "    if num%2==0:\n",
    "        return \"even number: {}\".format(num)\n",
    "    else:\n",
    "        return \"odd number: {}\".format(num)"
   ]
  },
  {
   "cell_type": "code",
   "execution_count": 64,
   "id": "c6f2c95b",
   "metadata": {},
   "outputs": [
    {
     "data": {
      "text/plain": [
       "'odd number: 3'"
      ]
     },
     "execution_count": 64,
     "metadata": {},
     "output_type": "execute_result"
    }
   ],
   "source": [
    "even_odd(3)"
   ]
  },
  {
   "cell_type": "code",
   "execution_count": 65,
   "id": "80e4e3b2",
   "metadata": {},
   "outputs": [
    {
     "data": {
      "text/plain": [
       "'even number: 8'"
      ]
     },
     "execution_count": 65,
     "metadata": {},
     "output_type": "execute_result"
    }
   ],
   "source": [
    "even_odd(8)"
   ]
  },
  {
   "cell_type": "code",
   "execution_count": 66,
   "id": "06a46f17",
   "metadata": {},
   "outputs": [],
   "source": [
    "lst = [12,3,4,5,6,7,8,9]"
   ]
  },
  {
   "cell_type": "code",
   "execution_count": 67,
   "id": "605094db",
   "metadata": {},
   "outputs": [
    {
     "data": {
      "text/plain": [
       "<map at 0x159adf2edf0>"
      ]
     },
     "execution_count": 67,
     "metadata": {},
     "output_type": "execute_result"
    }
   ],
   "source": [
    "map(even_odd, lst)  # first paramenter is function name, second is argument "
   ]
  },
  {
   "cell_type": "code",
   "execution_count": 68,
   "id": "0f9962f0",
   "metadata": {},
   "outputs": [
    {
     "data": {
      "text/plain": [
       "['even number: 12',\n",
       " 'odd number: 3',\n",
       " 'even number: 4',\n",
       " 'odd number: 5',\n",
       " 'even number: 6',\n",
       " 'odd number: 7',\n",
       " 'even number: 8',\n",
       " 'odd number: 9']"
      ]
     },
     "execution_count": 68,
     "metadata": {},
     "output_type": "execute_result"
    }
   ],
   "source": [
    "list(map(even_odd, lst))"
   ]
  },
  {
   "cell_type": "code",
   "execution_count": 69,
   "id": "033d66e7",
   "metadata": {},
   "outputs": [],
   "source": [
    "## filter()  # find out even number "
   ]
  },
  {
   "cell_type": "code",
   "execution_count": 85,
   "id": "96e7fc7e",
   "metadata": {},
   "outputs": [],
   "source": [
    "def even(num):\n",
    "    if num%2==0:\n",
    "        return \"even\""
   ]
  },
  {
   "cell_type": "code",
   "execution_count": 86,
   "id": "397499bc",
   "metadata": {},
   "outputs": [
    {
     "data": {
      "text/plain": [
       "'even'"
      ]
     },
     "execution_count": 86,
     "metadata": {},
     "output_type": "execute_result"
    }
   ],
   "source": [
    "even(10)"
   ]
  },
  {
   "cell_type": "code",
   "execution_count": 87,
   "id": "218a6688",
   "metadata": {},
   "outputs": [],
   "source": [
    "even(11)"
   ]
  },
  {
   "cell_type": "code",
   "execution_count": 88,
   "id": "97a3a428",
   "metadata": {},
   "outputs": [],
   "source": [
    "lst = [2,3,4,5,6,7,8,33,44,55,66,77]"
   ]
  },
  {
   "cell_type": "code",
   "execution_count": 89,
   "id": "6e3d7ff6",
   "metadata": {},
   "outputs": [
    {
     "data": {
      "text/plain": [
       "<filter at 0x159adf2e5e0>"
      ]
     },
     "execution_count": 89,
     "metadata": {},
     "output_type": "execute_result"
    }
   ],
   "source": [
    "filter(even, lst)"
   ]
  },
  {
   "cell_type": "code",
   "execution_count": 92,
   "id": "30d4600b",
   "metadata": {},
   "outputs": [
    {
     "data": {
      "text/plain": [
       "[2, 4, 6, 8, 44, 66]"
      ]
     },
     "execution_count": 92,
     "metadata": {},
     "output_type": "execute_result"
    }
   ],
   "source": [
    "list(filter(even,lst))  # filter() return the True elements  / map() return in True/False "
   ]
  },
  {
   "cell_type": "code",
   "execution_count": 93,
   "id": "ea883d09",
   "metadata": {},
   "outputs": [
    {
     "data": {
      "text/plain": [
       "['even',\n",
       " None,\n",
       " 'even',\n",
       " None,\n",
       " 'even',\n",
       " None,\n",
       " 'even',\n",
       " None,\n",
       " 'even',\n",
       " None,\n",
       " 'even',\n",
       " None]"
      ]
     },
     "execution_count": 93,
     "metadata": {},
     "output_type": "execute_result"
    }
   ],
   "source": [
    "list(map(even,lst))  # "
   ]
  },
  {
   "cell_type": "code",
   "execution_count": 94,
   "id": "d569dfdb",
   "metadata": {},
   "outputs": [
    {
     "data": {
      "text/plain": [
       "<filter at 0x159adf2ee50>"
      ]
     },
     "execution_count": 94,
     "metadata": {},
     "output_type": "execute_result"
    }
   ],
   "source": [
    "filter(lambda num:num%2==0, lst)  # apply lambda function "
   ]
  },
  {
   "cell_type": "code",
   "execution_count": 95,
   "id": "d8c7759d",
   "metadata": {},
   "outputs": [
    {
     "data": {
      "text/plain": [
       "[2, 4, 6, 8, 44, 66]"
      ]
     },
     "execution_count": 95,
     "metadata": {},
     "output_type": "execute_result"
    }
   ],
   "source": [
    "list(filter(lambda num:num%2==0, lst)) # iterate through list "
   ]
  },
  {
   "cell_type": "code",
   "execution_count": 96,
   "id": "118781dc",
   "metadata": {},
   "outputs": [],
   "source": [
    "# lambda function or annonimous function / function with no name  # we use incase of we return a single expression"
   ]
  },
  {
   "cell_type": "code",
   "execution_count": 97,
   "id": "b36c3814",
   "metadata": {},
   "outputs": [],
   "source": [
    "def addition(a,b):\n",
    "    return a+b"
   ]
  },
  {
   "cell_type": "code",
   "execution_count": 98,
   "id": "404799fb",
   "metadata": {},
   "outputs": [
    {
     "data": {
      "text/plain": [
       "7"
      ]
     },
     "execution_count": 98,
     "metadata": {},
     "output_type": "execute_result"
    }
   ],
   "source": [
    "addition(3,4)"
   ]
  },
  {
   "cell_type": "code",
   "execution_count": 101,
   "id": "7b1b1b08",
   "metadata": {},
   "outputs": [],
   "source": [
    "add = lambda a,b:a+b"
   ]
  },
  {
   "cell_type": "code",
   "execution_count": 103,
   "id": "8f746ae1",
   "metadata": {},
   "outputs": [
    {
     "data": {
      "text/plain": [
       "10"
      ]
     },
     "execution_count": 103,
     "metadata": {},
     "output_type": "execute_result"
    }
   ],
   "source": [
    "add(4,6)"
   ]
  },
  {
   "cell_type": "code",
   "execution_count": 104,
   "id": "01ac6a7c",
   "metadata": {},
   "outputs": [],
   "source": [
    "def even(num):\n",
    "    if num%2==0:\n",
    "        return True"
   ]
  },
  {
   "cell_type": "code",
   "execution_count": 105,
   "id": "f82b3a19",
   "metadata": {},
   "outputs": [
    {
     "data": {
      "text/plain": [
       "True"
      ]
     },
     "execution_count": 105,
     "metadata": {},
     "output_type": "execute_result"
    }
   ],
   "source": [
    "even(10)"
   ]
  },
  {
   "cell_type": "code",
   "execution_count": 106,
   "id": "4d1d1ca0",
   "metadata": {},
   "outputs": [],
   "source": [
    "even1 = lambda num:num%2==0"
   ]
  },
  {
   "cell_type": "code",
   "execution_count": 108,
   "id": "41438144",
   "metadata": {},
   "outputs": [
    {
     "data": {
      "text/plain": [
       "False"
      ]
     },
     "execution_count": 108,
     "metadata": {},
     "output_type": "execute_result"
    }
   ],
   "source": [
    "even1(11)"
   ]
  },
  {
   "cell_type": "code",
   "execution_count": 109,
   "id": "fdf2ae61",
   "metadata": {},
   "outputs": [],
   "source": [
    "def add3(x,y,z):\n",
    "    return x+y+z"
   ]
  },
  {
   "cell_type": "code",
   "execution_count": 110,
   "id": "1cc40655",
   "metadata": {},
   "outputs": [
    {
     "data": {
      "text/plain": [
       "9"
      ]
     },
     "execution_count": 110,
     "metadata": {},
     "output_type": "execute_result"
    }
   ],
   "source": [
    "add3(2,3,4)"
   ]
  },
  {
   "cell_type": "code",
   "execution_count": 112,
   "id": "09903071",
   "metadata": {},
   "outputs": [],
   "source": [
    "add33 = lambda a,b,c:a+b+c"
   ]
  },
  {
   "cell_type": "code",
   "execution_count": 113,
   "id": "3ba0f026",
   "metadata": {},
   "outputs": [
    {
     "data": {
      "text/plain": [
       "49"
      ]
     },
     "execution_count": 113,
     "metadata": {},
     "output_type": "execute_result"
    }
   ],
   "source": [
    "add33(2,3,44)"
   ]
  },
  {
   "cell_type": "code",
   "execution_count": 118,
   "id": "88a851ce",
   "metadata": {},
   "outputs": [],
   "source": [
    "big = lambda a,b: a if a>b else b"
   ]
  },
  {
   "cell_type": "code",
   "execution_count": 119,
   "id": "dd2c4818",
   "metadata": {},
   "outputs": [
    {
     "data": {
      "text/plain": [
       "5"
      ]
     },
     "execution_count": 119,
     "metadata": {},
     "output_type": "execute_result"
    }
   ],
   "source": [
    "big(2,5)"
   ]
  },
  {
   "cell_type": "code",
   "execution_count": 120,
   "id": "ec93817f",
   "metadata": {},
   "outputs": [
    {
     "data": {
      "text/plain": [
       "22"
      ]
     },
     "execution_count": 120,
     "metadata": {},
     "output_type": "execute_result"
    }
   ],
   "source": [
    "big(22,5)"
   ]
  },
  {
   "cell_type": "code",
   "execution_count": 149,
   "id": "41e3b0df",
   "metadata": {},
   "outputs": [],
   "source": [
    "big_small = lambda a,b,c : a if a>b and a > c else b if b>c else c"
   ]
  },
  {
   "cell_type": "code",
   "execution_count": 150,
   "id": "b9b649f5",
   "metadata": {},
   "outputs": [
    {
     "data": {
      "text/plain": [
       "5"
      ]
     },
     "execution_count": 150,
     "metadata": {},
     "output_type": "execute_result"
    }
   ],
   "source": [
    "big_small(2,3,5)"
   ]
  },
  {
   "cell_type": "code",
   "execution_count": 160,
   "id": "6c074237",
   "metadata": {},
   "outputs": [
    {
     "data": {
      "text/plain": [
       "300"
      ]
     },
     "execution_count": 160,
     "metadata": {},
     "output_type": "execute_result"
    }
   ],
   "source": [
    "big_small(10,300,100)"
   ]
  },
  {
   "cell_type": "code",
   "execution_count": 161,
   "id": "6bbd456c",
   "metadata": {},
   "outputs": [],
   "source": [
    "# LIST comprehension "
   ]
  },
  {
   "cell_type": "code",
   "execution_count": 164,
   "id": "97c85749",
   "metadata": {},
   "outputs": [],
   "source": [
    "lst2=[]\n",
    "def square(lst):\n",
    "    for i in lst:\n",
    "        lst2.append(i*i)\n",
    "    return lst2"
   ]
  },
  {
   "cell_type": "code",
   "execution_count": 165,
   "id": "97ee8959",
   "metadata": {},
   "outputs": [
    {
     "data": {
      "text/plain": [
       "[4, 9, 16, 25, 36, 49]"
      ]
     },
     "execution_count": 165,
     "metadata": {},
     "output_type": "execute_result"
    }
   ],
   "source": [
    "square([2,3,4,5,6,7])"
   ]
  },
  {
   "cell_type": "code",
   "execution_count": 170,
   "id": "cd19bfde",
   "metadata": {},
   "outputs": [],
   "source": [
    "lst=[1,2,3,4,5,6,7,8]"
   ]
  },
  {
   "cell_type": "code",
   "execution_count": 171,
   "id": "b08dbe75",
   "metadata": {},
   "outputs": [
    {
     "data": {
      "text/plain": [
       "[1, 4, 9, 16, 25, 36, 49, 64]"
      ]
     },
     "execution_count": 171,
     "metadata": {},
     "output_type": "execute_result"
    }
   ],
   "source": [
    "[i*i for i in lst]  # this is called list comprehension "
   ]
  },
  {
   "cell_type": "code",
   "execution_count": 172,
   "id": "a8868f35",
   "metadata": {},
   "outputs": [
    {
     "data": {
      "text/plain": [
       "[4, 16, 36, 64]"
      ]
     },
     "execution_count": 172,
     "metadata": {},
     "output_type": "execute_result"
    }
   ],
   "source": [
    "# square only even numbers \n",
    "[i*i for i in lst if i%2==0]  # adding an if clause"
   ]
  },
  {
   "cell_type": "code",
   "execution_count": 173,
   "id": "124f22c1",
   "metadata": {},
   "outputs": [
    {
     "data": {
      "text/plain": [
       "[1, 9, 25, 49]"
      ]
     },
     "execution_count": 173,
     "metadata": {},
     "output_type": "execute_result"
    }
   ],
   "source": [
    "# calculate square of odd numbers \n",
    "[i*i for i in lst if i%2!=0]  # adding if clause "
   ]
  },
  {
   "cell_type": "code",
   "execution_count": 192,
   "id": "25369930",
   "metadata": {},
   "outputs": [
    {
     "data": {
      "text/plain": [
       "[5, 10, 15, 20, 25, 30, 35, 40, 45, 50]"
      ]
     },
     "execution_count": 192,
     "metadata": {},
     "output_type": "execute_result"
    }
   ],
   "source": [
    "n=5\n",
    "[n * i for i in range(1,11)]"
   ]
  },
  {
   "cell_type": "code",
   "execution_count": 204,
   "id": "ce7bb8e0",
   "metadata": {},
   "outputs": [
    {
     "data": {
      "text/plain": [
       "[1, 2, 3, 4, 5, 6, 7, 8]"
      ]
     },
     "execution_count": 204,
     "metadata": {},
     "output_type": "execute_result"
    }
   ],
   "source": [
    "sum=0\n",
    "[sum+i for i in lst]"
   ]
  },
  {
   "cell_type": "code",
   "execution_count": 205,
   "id": "10c70ff5",
   "metadata": {},
   "outputs": [
    {
     "name": "stdout",
     "output_type": "stream",
     "text": [
      "36\n"
     ]
    }
   ],
   "source": [
    "for i in lst:\n",
    "    sum=sum+i\n",
    "print(sum)"
   ]
  },
  {
   "cell_type": "code",
   "execution_count": null,
   "id": "777e90b1",
   "metadata": {},
   "outputs": [],
   "source": []
  }
 ],
 "metadata": {
  "kernelspec": {
   "display_name": "Python 3 (ipykernel)",
   "language": "python",
   "name": "python3"
  },
  "language_info": {
   "codemirror_mode": {
    "name": "ipython",
    "version": 3
   },
   "file_extension": ".py",
   "mimetype": "text/x-python",
   "name": "python",
   "nbconvert_exporter": "python",
   "pygments_lexer": "ipython3",
   "version": "3.9.7"
  }
 },
 "nbformat": 4,
 "nbformat_minor": 5
}
